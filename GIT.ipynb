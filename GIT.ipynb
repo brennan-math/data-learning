{
 "cells": [
  {
   "cell_type": "markdown",
   "id": "99ebac0f-a84e-4992-a1be-15bddca504c1",
   "metadata": {},
   "source": [
    "# GIT Notes"
   ]
  },
  {
   "cell_type": "markdown",
   "id": "3b7506bc-af26-4c76-9991-c8849c385f6f",
   "metadata": {},
   "source": [
    "For command line manipulations of folders that are GIT initialized."
   ]
  },
  {
   "cell_type": "markdown",
   "id": "35484eb6-f0a2-4f54-a306-4628b885c2a6",
   "metadata": {},
   "source": []
  },
  {
   "cell_type": "raw",
   "id": "4ed17c95-d651-4d78-b9c6-e26aac40fd7b",
   "metadata": {},
   "source": [
    "git init"
   ]
  }
 ],
 "metadata": {
  "kernelspec": {
   "display_name": "Python 3 (ipykernel)",
   "language": "python",
   "name": "python3"
  },
  "language_info": {
   "codemirror_mode": {
    "name": "ipython",
    "version": 3
   },
   "file_extension": ".py",
   "mimetype": "text/x-python",
   "name": "python",
   "nbconvert_exporter": "python",
   "pygments_lexer": "ipython3",
   "version": "3.9.18"
  }
 },
 "nbformat": 4,
 "nbformat_minor": 5
}
