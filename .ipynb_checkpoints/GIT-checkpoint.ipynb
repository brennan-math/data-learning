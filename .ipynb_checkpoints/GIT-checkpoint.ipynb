{
 "cells": [
  {
   "cell_type": "markdown",
   "id": "99ebac0f-a84e-4992-a1be-15bddca504c1",
   "metadata": {},
   "source": [
    "# GIT Notes"
   ]
  },
  {
   "cell_type": "markdown",
   "id": "3b7506bc-af26-4c76-9991-c8849c385f6f",
   "metadata": {},
   "source": [
    "For command line manipulations of folders that are GIT initialized."
   ]
  },
  {
   "cell_type": "markdown",
   "id": "35484eb6-f0a2-4f54-a306-4628b885c2a6",
   "metadata": {},
   "source": [
    "**Initialize** GIT for a folder:"
   ]
  },
  {
   "cell_type": "raw",
   "id": "4ed17c95-d651-4d78-b9c6-e26aac40fd7b",
   "metadata": {},
   "source": [
    "git init"
   ]
  },
  {
   "cell_type": "markdown",
   "id": "fb2d1005-08e5-48cf-a856-6139fce0c122",
   "metadata": {},
   "source": [
    "**Status** check of the repository:"
   ]
  },
  {
   "cell_type": "raw",
   "id": "66439bab-007a-4102-aedb-3509a093797b",
   "metadata": {},
   "source": [
    "git status"
   ]
  },
  {
   "cell_type": "markdown",
   "id": "61220d02-09a5-4b49-b45c-2e10cb377fdd",
   "metadata": {},
   "source": [
    "**Add** files to GIT before committing them:"
   ]
  },
  {
   "cell_type": "raw",
   "id": "b1da6770-eb71-4ebe-af7b-e4598b8618fd",
   "metadata": {},
   "source": [
    "git add <filename>\n",
    "git add --all\n",
    "git add -A"
   ]
  },
  {
   "cell_type": "markdown",
   "id": "93699d5d-6a58-42ff-a68d-19a230b55069",
   "metadata": {},
   "source": [
    "**Commit** with a generic message for your notes:"
   ]
  },
  {
   "cell_type": "raw",
   "id": "94b29651-e955-4758-99f2-3c15ab90cfc3",
   "metadata": {},
   "source": [
    "git commit -m \"Generic Message\""
   ]
  },
  {
   "cell_type": "markdown",
   "id": "198f132c-df23-433c-8dff-eff8569ff011",
   "metadata": {},
   "source": [
    "**Fetch** updates to a repository:"
   ]
  },
  {
   "cell_type": "raw",
   "id": "3d6c3579-a661-4317-9f5d-24d5b0a5e964",
   "metadata": {},
   "source": [
    "git fetch origin"
   ]
  },
  {
   "cell_type": "code",
   "execution_count": null,
   "id": "a6ad4cf0-70f1-4813-aa61-68e4edfc96d8",
   "metadata": {},
   "outputs": [],
   "source": []
  }
 ],
 "metadata": {
  "kernelspec": {
   "display_name": "Python 3 (ipykernel)",
   "language": "python",
   "name": "python3"
  },
  "language_info": {
   "codemirror_mode": {
    "name": "ipython",
    "version": 3
   },
   "file_extension": ".py",
   "mimetype": "text/x-python",
   "name": "python",
   "nbconvert_exporter": "python",
   "pygments_lexer": "ipython3",
   "version": "3.9.18"
  }
 },
 "nbformat": 4,
 "nbformat_minor": 5
}
